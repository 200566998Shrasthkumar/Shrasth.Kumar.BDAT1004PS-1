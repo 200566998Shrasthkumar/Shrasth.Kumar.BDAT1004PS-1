{
 "cells": [
  {
   "cell_type": "markdown",
   "id": "5445ddfc",
   "metadata": {},
   "source": [
    "# Problem Set 1"
   ]
  },
  {
   "cell_type": "markdown",
   "id": "c06f5edb",
   "metadata": {},
   "source": [
    "**Question 1 C#**"
   ]
  },
  {
   "cell_type": "markdown",
   "id": "630a0f31",
   "metadata": {},
   "source": [
    "**What data type is each of the following?**\n",
    "\n",
    "1. 5 : **integer**\n",
    "2. 5.0: **double**\n",
    "3. 5 > 1: **boolean value \"True\"**\n",
    "4. '5': **string**\n",
    "5. 5 * 2: **integer**\n",
    "6. '5' * 2: **string**\n",
    "7. '5' + '2': **string**\n",
    "8. 5 / 2: **double**\n",
    "9. 5 % 2 : **integer**\n",
    "10. {5, 2, 1}: **array**\n",
    "11. 5 == 3 :**boolean value \"False\"**\n",
    "12. Pi (the number):**double**"
   ]
  },
  {
   "cell_type": "markdown",
   "id": "32b71b44",
   "metadata": {},
   "source": [
    "**Question 2 C#**"
   ]
  },
  {
   "cell_type": "markdown",
   "id": "ca69e900",
   "metadata": {},
   "source": [
    "**Write (and evaluate) C# expressions that answer these questions:**\n",
    "\n",
    "1. How many letters are there in 'Supercalifragilisticexpialidocious'?\n",
    "\n",
    "2. Does 'Supercalifragilisticexpialidocious' contain 'ice' as a substring? \n",
    "\n",
    "3. Which of the following words is the longest: Supercalifragilisticexpialidocious, Honorificabilitudinitatibus, or Bababadalgharaghtakamminarronnkonn?\n",
    "\n",
    "4. Which composer comes first in the dictionary: 'Berlioz', 'Borodin', 'Brian','Bartok', 'Bellini', 'Buxtehude', 'Bernstein'. Which one comes last?"
   ]
  },
  {
   "cell_type": "code",
   "execution_count": 21,
   "id": "025fbf3d",
   "metadata": {},
   "outputs": [],
   "source": [
    "String word_A = \"Supercalifragilisticexpialidocious\";\n",
    "string word_B = \"Honorificabilitudinitatibus\";\n",
    "string word_C = \"Bababadalgharaghtakamminarronnkonn\";"
   ]
  },
  {
   "cell_type": "code",
   "execution_count": 22,
   "id": "ca7fc7ee",
   "metadata": {},
   "outputs": [
    {
     "name": "stdout",
     "output_type": "stream",
     "text": [
      "The word: 'Supercalifragilisticexpialidocious' has 34 letters\r\n"
     ]
    }
   ],
   "source": [
    "//Answer_1: How many letters are there in 'Supercalifragilisticexpialidocious'?\n",
    "\n",
    "int wordCount = word_A.Length;\n",
    "Console.WriteLine($\"The word: '{word_A}' has {wordCount} letters\");"
   ]
  },
  {
   "cell_type": "code",
   "execution_count": 23,
   "id": "d71fed26",
   "metadata": {},
   "outputs": [
    {
     "name": "stdout",
     "output_type": "stream",
     "text": [
      "The word 'Supercalifragilisticexpialidocious' contains 'ice' as a substring.\r\n"
     ]
    }
   ],
   "source": [
    "//Answer_2: Does 'Supercalifragilisticexpialidocious' contain 'ice' as a substring? \n",
    "\n",
    "bool substring_contain = word_A.Contains(\"ice\");\n",
    "\n",
    "if (substring_contain)\n",
    "{\n",
    "    Console.WriteLine($\"The word '{word_A}' contains 'ice' as a substring.\");\n",
    "}\n",
    "else\n",
    "{\n",
    "    Console.WriteLine($\"The word '{word_A}' does not contain 'ice' as a substring.\");\n",
    "}"
   ]
  },
  {
   "cell_type": "code",
   "execution_count": 24,
   "id": "6be62bfc",
   "metadata": {},
   "outputs": [
    {
     "name": "stdout",
     "output_type": "stream",
     "text": [
      "There are more than one word which share the longest length.\r\n"
     ]
    }
   ],
   "source": [
    "//Answer_3: Which of the following words is the longest: Supercalifragilisticexpialidocious, Honorificabilitudinitatibus, or Bababadalgharaghtakamminarronnkonn?\n",
    "\n",
    "string longestWord;\n",
    "\n",
    "if (word_A.Length > word_B.Length && word_A.Length > word_C.Length)\n",
    "{\n",
    "    longestWord = word_A;\n",
    "    Console.WriteLine($\"The longest word among the given words is '{longestWord}'.\");\n",
    "}\n",
    "else if (word_B.Length > word_A.Length && word_B.Length > word_C.Length)\n",
    "{\n",
    "    longestWord = word_B;\n",
    "    Console.WriteLine($\"The longest word among the given words is '{longestWord}'.\");\n",
    "}\n",
    "else if(word_C.Length > word_A.Length && word_C.Length > word_B.Length)\n",
    "{\n",
    "    longestWord = word_C;\n",
    "    Console.WriteLine($\"The longest word among the given words is '{longestWord}'.\");\n",
    "}\n",
    "else\n",
    "{\n",
    "    Console.WriteLine($\"There are more than one word which share the longest length.\");\n",
    "}"
   ]
  },
  {
   "cell_type": "code",
   "execution_count": 25,
   "id": "33746c7a",
   "metadata": {},
   "outputs": [
    {
     "name": "stdout",
     "output_type": "stream",
     "text": [
      "The first composer is 'Bartok' and the last composer is 'Buxtehude' in the dictionary.\r\n"
     ]
    }
   ],
   "source": [
    "//Answer_4:Which composer comes first in the dictionary: 'Berlioz', 'Borodin', 'Brian','Bartok', 'Bellini', 'Buxtehude', 'Bernstein'. Which one comes last?\n",
    "\n",
    "string[] composers = { \"Berlioz\", \"Borodin\", \"Brian\", \"Bartok\", \"Bellini\", \"Buxtehude\", \"Bernstein\" };\n",
    "Array.Sort(composers);\n",
    "string firstComposer = composers[0];\n",
    "string lastComposer = composers[composers.Length - 1];\n",
    "\n",
    "Console.WriteLine($\"The first composer is '{firstComposer}' and the last composer is '{lastComposer}' in the dictionary.\");"
   ]
  },
  {
   "cell_type": "markdown",
   "id": "87ff918b",
   "metadata": {},
   "source": [
    "**Question 3 C#**"
   ]
  },
  {
   "cell_type": "markdown",
   "id": "4f210506",
   "metadata": {},
   "source": [
    "**Implement function triangleArea(a,b,c) that takes as input the lengths of the 3 sides of a triangle and returns the area of the triangle. By Heron's formula, the area of a triangle with side lengths a, b, and c is**\n",
    "\n",
    "sqrt(s(s - a)(s -b)(s -c)), where\n",
    "\n",
    "s = (a+b+c)/2.\n",
    "\n",
    "triangleArea(2,2,2)\n",
    "\n",
    "\n",
    "1.7320508075688772"
   ]
  },
  {
   "cell_type": "code",
   "execution_count": 26,
   "id": "75994337",
   "metadata": {},
   "outputs": [
    {
     "name": "stdout",
     "output_type": "stream",
     "text": [
      "The area of the triangle is: 1.7320508075688772\r\n"
     ]
    }
   ],
   "source": [
    "double a = 2;\n",
    "double b = 2;\n",
    "double c = 2;\n",
    "double s = (a + b + c) / 2;\n",
    "\n",
    "double area = Math.Sqrt(s * (s - a) * (s - b) * (s - c));\n",
    "\n",
    "Console.WriteLine($\"The area of the triangle is: {area}\");"
   ]
  },
  {
   "cell_type": "markdown",
   "id": "cc32951d",
   "metadata": {},
   "source": [
    "**Question 4 C#**"
   ]
  },
  {
   "cell_type": "markdown",
   "id": "07665f2f",
   "metadata": {},
   "source": [
    "**Write a program in C# Sharp to separate odd and even integers in separate arrays.**\n",
    "\n",
    "Go to the editor\n",
    "\n",
    "Test Data :\n",
    "\n",
    "Input the number of elements to be stored in the array :5\n",
    "\n",
    "\n",
    "Input 5 elements in the array :\n",
    "\n",
    "\n",
    "element - 0 : 25\n",
    "\n",
    "element - 1 : 47\n",
    "\n",
    "element - 2 : 42\n",
    "\n",
    "element - 3 : 56\n",
    "\n",
    "element - 4 : 32\n",
    "\n",
    "Expected Output:\n",
    "\n",
    "The Even elements are:\n",
    "42 56 32\n",
    "\n",
    "The Odd elements are :\n",
    "25 47"
   ]
  },
  {
   "cell_type": "code",
   "execution_count": 43,
   "id": "b6526444",
   "metadata": {},
   "outputs": [
    {
     "name": "stdout",
     "output_type": "stream",
     "text": [
      "The Even elements are: 42 56 32 \n",
      "The Odd elements are: 25 47 \n"
     ]
    }
   ],
   "source": [
    "int[] elements = {25,47,42,56,32};\n",
    "int[] even_array = new int[elements.Length];\n",
    "int[] odd_array = new int[elements.Length];\n",
    "int total_even_Count = 0;\n",
    "int total_odd_Count = 0;\n",
    "\n",
    "\n",
    "for (int i = 0; i < elements.Length; i++)\n",
    "{\n",
    "   \n",
    "    if (elements[i] % 2 == 0)\n",
    "    {\n",
    "        even_array[total_even_Count] = elements[i];\n",
    "        total_even_Count++;\n",
    "    }\n",
    "    else\n",
    "    {\n",
    "        odd_array[total_odd_Count] = elements[i];\n",
    "        total_odd_Count++;\n",
    "    }\n",
    "}\n",
    "\n",
    "Console.Write(\"The Even elements are: \");\n",
    "for (int i = 0; i < total_even_Count; i++)\n",
    "{\n",
    "    Console.Write($\"{even_array[i]} \");\n",
    "}\n",
    "\n",
    "Console.WriteLine();\n",
    "\n",
    "Console.Write(\"The Odd elements are: \");\n",
    "for (int i = 0; i < total_odd_Count; i++)\n",
    "{\n",
    "    Console.Write($\"{odd_array[i]} \");\n",
    "}\n",
    "\n",
    "Console.WriteLine();"
   ]
  },
  {
   "cell_type": "markdown",
   "id": "83dcc7af",
   "metadata": {},
   "source": [
    "**Question 5 C#**"
   ]
  },
  {
   "cell_type": "markdown",
   "id": "d41a7e85",
   "metadata": {},
   "source": [
    "**a. Write a function inside(x,y,x1,y1,x2,y2) that returns True or False depending on whether the point (x,y) lies in the rectangle with lower left\n",
    "corner (x1,y1) and upper right corner (x2,y2).**\n",
    "\n",
    "\n",
    "- inside(1,1,0,0,2,3)\n",
    "- True\n",
    "\n",
    "- inside(-1,-1,0,0,2,3)\n",
    "- False\n",
    "\n",
    "\n",
    "**b. Use function inside() from part a. to write an expression that tests whether the point (1,1) lies in both of the following rectangles: one with lower left corner (0.3, 0.5) and upper right corner (1.1, 0.7) and the other with lower left corner (0.5, 0.2) and upper right corner (1.1, 2)**"
   ]
  },
  {
   "cell_type": "code",
   "execution_count": 14,
   "id": "fdf2bcc8",
   "metadata": {},
   "outputs": [
    {
     "name": "stdout",
     "output_type": "stream",
     "text": [
      "True\n",
      "False\n"
     ]
    }
   ],
   "source": [
    "//a\n",
    "\n",
    "static bool Inside(double x, double y, double x1, double y1, double x2, double y2)\n",
    "{\n",
    "    return x >= x1 && x <= x2 && y >= y1 && y <= y2;\n",
    "}\n",
    "\n",
    "Console.WriteLine(Inside(1, 1, 0, 0, 2, 3));\n",
    "Console.WriteLine(Inside(-1, -1, 0, 0, 2, 3));"
   ]
  },
  {
   "cell_type": "code",
   "execution_count": 20,
   "id": "ce85f613",
   "metadata": {},
   "outputs": [
    {
     "name": "stdout",
     "output_type": "stream",
     "text": [
      "Point x,y in Rectangle 1: False\n",
      "Point x,y in Rectangle 2: True\n"
     ]
    }
   ],
   "source": [
    "//b\n",
    "\n",
    "double x = 1;\n",
    "double y = 1;\n",
    "\n",
    "bool rectangle_1 = Inside(1, 1, 0.3, 0.5, 1.1, 0.7);\n",
    "bool rectangle_2 = Inside(1, 1, 0.5, 0.2, 1.1, 2);\n",
    "\n",
    "Console.WriteLine($\"Point x,y in Rectangle 1: {rectangle_1}\");\n",
    "Console.WriteLine($\"Point x,y in Rectangle 2: {rectangle_2}\");"
   ]
  },
  {
   "cell_type": "markdown",
   "id": "807f7cc4",
   "metadata": {},
   "source": [
    "**Question 6 Python**"
   ]
  },
  {
   "cell_type": "markdown",
   "id": "559abed9",
   "metadata": {},
   "source": [
    "**16. You can turn a word into pig-Latin using the following two rules (simplified):**\n",
    "    \n",
    "1. If the word starts with a consonant, move that letter to the end and append 'ay'. For example, 'happy' becomes 'appyhay' and 'pencil' becomes 'encilpay'.\n",
    "\n",
    "2. If the word starts with a vowel, simply append 'way' to the end of the word.For example, 'enter' becomes 'enterway' and 'other' becomes 'otherway'.For our purposes, there are 5 vowels: a, e, i, o, u (so we count y as a consonant).\n",
    "\n",
    "**Write a function pig() that takes a word (i.e., a string) as input and returns its pigLatin form. Your function should still work if the input word contains upper case characters. Your output should always be lower case however.**\n",
    "    \n",
    "    >>> pig('happy')\n",
    "    'appyhay'\n",
    "    >>> pig('Enter')\n",
    "    'enterway"
   ]
  },
  {
   "cell_type": "code",
   "execution_count": 1,
   "id": "b0e0e952",
   "metadata": {},
   "outputs": [
    {
     "name": "stdout",
     "output_type": "stream",
     "text": [
      "Enter a word: Happy\n",
      "Pig Latin: appyhay\n"
     ]
    }
   ],
   "source": [
    "def pig():\n",
    "    \n",
    "    word = input(\"Enter a word: \") #request for input from user\n",
    "    \n",
    "    vowels = ['a', 'e', 'i', 'o', 'u']\n",
    "    \n",
    "    if word[0].lower() in vowels:\n",
    "        pig_latin = word.lower() + 'way'\n",
    "    else:\n",
    "        pig_latin = word[1:].lower() + word[0].lower() + 'ay'\n",
    "    \n",
    "    return pig_latin\n",
    "\n",
    "result = pig()\n",
    "print(f\"Pig Latin: {result}\")"
   ]
  },
  {
   "cell_type": "markdown",
   "id": "862b5150",
   "metadata": {},
   "source": [
    "**Question 7 Python**"
   ]
  },
  {
   "cell_type": "markdown",
   "id": "a20eaa31",
   "metadata": {},
   "source": [
    "File bloodtype1.txt records blood-types of patients (A, B, AB, O or OO) at a clinic.\n",
    "\n",
    "**Write a function bldcount() that reads the file with name name and reports (i.e., prints) how many patients there are in each bloodtype.**\n",
    "\n",
    "bldcount('bloodtype.txt')\n",
    "\n",
    "    There are 10 patients of blood type A.\n",
    "    There is one patient of blood type B.\n",
    "    There are 10 patients of blood type AB.\n",
    "    There are 12 patients of blood type O.\n",
    "    There are no patients of blood type OO."
   ]
  },
  {
   "cell_type": "code",
   "execution_count": 2,
   "id": "4ea0dcf2",
   "metadata": {},
   "outputs": [
    {
     "name": "stdout",
     "output_type": "stream",
     "text": [
      "There are 15 patients of blood type A.\n",
      "There are 1 patients of blood type B.\n",
      "There are 13 patients of blood type AB.\n",
      "There are 15 patients of blood type O.\n",
      "There are 0 patients of blood type OO.\n"
     ]
    }
   ],
   "source": [
    "def bldcount(txt):\n",
    "    blood_group = {\"A\": 0, \"B\": 0, \"AB\": 0, \"O\": 0,\"OO\":0}\n",
    "\n",
    "    with open(txt, 'r') as text_file:\n",
    "        line = text_file.read()\n",
    "        blood_types = line.split()\n",
    "        \n",
    "        for blood_type in blood_types:\n",
    "            blood_type = blood_type.strip().upper()\n",
    "            if blood_type in blood_group:\n",
    "                blood_group[blood_type] += 1\n",
    "\n",
    "    for blood_type, count in blood_group.items():\n",
    "        print(f\"There are {count} patients of blood type {blood_type}.\")\n",
    "\n",
    "bldcount(r\"C:\\Users\\shras\\Downloads\\bloodtype1.txt\")"
   ]
  },
  {
   "cell_type": "markdown",
   "id": "8a4098b3",
   "metadata": {},
   "source": [
    "**Question 8 Python**"
   ]
  },
  {
   "cell_type": "markdown",
   "id": "feb6fe09",
   "metadata": {},
   "source": [
    "**Write a function curconv() that takes as input:**\n",
    "\n",
    "1. a currency represented using a string (e.g., 'JPY' for the Japanese Yen or\n",
    "'EUR' for the Euro)\n",
    "2. an amount and then converts and returns the amount in US dollars.\n",
    "\n",
    "- curconv('EUR', 100)\n",
    "122.96544\n",
    "\n",
    "-  curconv('JPY', 100)\n",
    "1.241401\n",
    "\n",
    "The currency rates you will need are stored in file currencies.txt:\n",
    "AUD 1.0345157 Australian Dollar\n",
    "CHF 1.0237414 Swiss Franc\n",
    "CNY 0.1550176 Chinese Yuan\n",
    "DKK 0.1651442 Danish Krone\n",
    "EUR 1.2296544 Euro\n",
    "GBP 1.5550989 British Pound\n",
    "HKD 0.1270207 Hong Kong Dollar\n",
    "INR 0.0177643 Indian Rupee\n",
    "JPY 0.01241401 Japanese Yen\n",
    "MXN 0.0751848 Mexican Peso\n",
    "MYR 0.3145411 Malaysian Ringgit\n",
    "NOK 0.1677063 Norwegian Krone\n",
    "NZD 0.8003591 New Zealand Dollar\n",
    "PHP 0.0233234 Philippine Peso\n",
    "SEK 0.148269 Swedish Krona\n",
    "SGD 0.788871 Singapore Dollar\n",
    "THB 0.0313789 Thai Baht"
   ]
  },
  {
   "cell_type": "code",
   "execution_count": 4,
   "id": "ce335535",
   "metadata": {},
   "outputs": [
    {
     "name": "stdout",
     "output_type": "stream",
     "text": [
      "Enter the first 3 letters of currency code: EUR\n",
      "Enter the amount: 100\n",
      "The converted rate is 122.96544\n"
     ]
    }
   ],
   "source": [
    "def curconv():\n",
    "    with open(r\"C:\\Users\\shras\\Downloads\\currencies.txt\", 'r') as text_file:\n",
    "        lines = text_file.readlines()\n",
    "    \n",
    "    conversion_rates = {}\n",
    "    \n",
    "    for line in lines:\n",
    "        parts = line.split()\n",
    "        currency_code = parts[0]\n",
    "        rate = float(parts[1])\n",
    "        conversion_rates[currency_code] = rate\n",
    "        \n",
    "    currency = input(\"Enter the first 3 letters of currency code: \")\n",
    "    amount = float(input(\"Enter the amount: \"))\n",
    "    \n",
    "    if currency in conversion_rates:\n",
    "        usd_amount = amount * conversion_rates[currency]\n",
    "        return usd_amount\n",
    "    else:\n",
    "        return \"Currency not found\"\n",
    "\n",
    "amount = curconv()\n",
    "print(f\"The converted rate is {amount}\")"
   ]
  },
  {
   "cell_type": "markdown",
   "id": "bddcba59",
   "metadata": {},
   "source": [
    "**Question 9 Python**"
   ]
  },
  {
   "cell_type": "markdown",
   "id": "720b35dc",
   "metadata": {},
   "source": [
    "**Each of the following will cause an exception (an error). Identify what type of exception each will cause.**\n",
    "\n",
    "1. Trying to add incompatible variables, as in adding 6 + ‘a’\n",
    "\n",
    "2. Referring to the 12th item of a list that has only 10 items\n",
    "\n",
    "3. Using a value that is out of range for a function’s input, such as calling math.sqrt(-1.0) \n",
    "\n",
    "4. Using an undeclared variable, such as print(x) when x has not been defined\n",
    "\n",
    "5. Trying to open a file that does not exist, such as mistyping the file name or looking in the wrong directory"
   ]
  },
  {
   "cell_type": "markdown",
   "id": "cc7e63b5",
   "metadata": {},
   "source": [
    "1. Trying to add incompatible variables, as in adding 6 + 'a'\n",
    "\n",
    "Error: **TypeError**\n",
    "\n",
    "2. Referring to the 12th item of a list that has only 10 items:\n",
    "\n",
    "Error: **IndexError**\n",
    "\n",
    "3. Using a value that is out of range for a function's input, such as calling math.sqrt(-1.0):\n",
    "\n",
    "Error: **ValueError** \n",
    "\n",
    "4. Using an undeclared variable, such as print(x) when x has not been defined:\n",
    "\n",
    "Error: **NameError**\n",
    "\n",
    "5. Trying to open a file that does not exist, such as mistyping the file name or looking in the wrong directory:\n",
    "\n",
    "Error: **FileNotFoundError**"
   ]
  },
  {
   "cell_type": "markdown",
   "id": "061b83fa",
   "metadata": {},
   "source": [
    "**Question 10 Python**"
   ]
  },
  {
   "cell_type": "markdown",
   "id": "3f9e8bfb",
   "metadata": {},
   "source": [
    "Encryption is the process of hiding the meaning of a text by substituting letters in the message with other letters, according to some system. If the process is successful, no one but the intended recipient can understand the encrypted message. Cryptanalysis refers to attempts to undo the encryption, even if some details of the encryption are unknown (for example, if an encrypted message has been intercepted). The first step of cryptanalysis is often to build up a table of letter frequencies in the encrypted text. Assume that the string letters is already defined as 'abcdefghijklmnopqrstuvwxyz'. Write a function called frequencies() that takes a string as its only parameter, and returns a list of integers, showing the number of times each character appears in the text. Your function may ignore any characters that are not in letters.\n",
    "\n",
    "-- frequencies('The quick red fox got bored and went home.')\n",
    "\n",
    "[1, 1, 1, 3, 5, 1, 1, 2, 1, 0, 1, 0, 1, 2, 4, 0, 1, 2, 0, 2, 1, 0, 1, 1, 0, 0]\n",
    "\n",
    "-- frequencies('apple')"
   ]
  },
  {
   "cell_type": "code",
   "execution_count": 33,
   "id": "8d9980e1",
   "metadata": {},
   "outputs": [
    {
     "name": "stdout",
     "output_type": "stream",
     "text": [
      "The quick red fox got bored and went home: [1, 1, 1, 3, 5, 1, 1, 2, 1, 0, 1, 0, 1, 2, 4, 0, 1, 2, 0, 3, 1, 0, 1, 1, 0, 0]\n",
      "apple: [1, 0, 0, 0, 1, 0, 0, 0, 0, 0, 0, 1, 0, 0, 0, 2, 0, 0, 0, 0, 0, 0, 0, 0, 0, 0]\n"
     ]
    }
   ],
   "source": [
    "def frequencies(text):\n",
    "    \n",
    "    alphabets = 'abcdefghijklmnopqrstuvwxyz'\n",
    "    \n",
    "    letters = [0] * len(alphabets)\n",
    "    \n",
    "    text = text.lower()\n",
    "    \n",
    "    for char in text:\n",
    "        if char in alphabets:\n",
    "            index = alphabets.index(char)\n",
    "            letters[index] += 1\n",
    "    \n",
    "    return letters\n",
    "\n",
    "result1 = frequencies('The quick red fox got bored and went home.')\n",
    "print(f\"The quick red fox got bored and went home: {result1}\")\n",
    "\n",
    "result2 = frequencies('apple')\n",
    "print(f\"apple: {result2}\")    "
   ]
  }
 ],
 "metadata": {
  "kernelspec": {
   "display_name": ".NET (C#)",
   "language": "C#",
   "name": ".net-csharp"
  },
  "language_info": {
   "file_extension": ".cs",
   "mimetype": "text/x-csharp",
   "name": "C#",
   "pygments_lexer": "csharp",
   "version": "8.0"
  }
 },
 "nbformat": 4,
 "nbformat_minor": 5
}
